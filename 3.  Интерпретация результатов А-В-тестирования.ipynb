{
 "cells": [
  {
   "cell_type": "markdown",
   "id": "a7e322e4-4025-4ea3-aadb-0f6da648f343",
   "metadata": {},
   "source": [
    "# 0. Импорт библиотек"
   ]
  },
  {
   "cell_type": "code",
   "execution_count": 1,
   "id": "5685a6b8-029b-49c7-983e-4f6ef006bf46",
   "metadata": {},
   "outputs": [],
   "source": [
    "import numpy as np\n",
    "import pandas as pd\n",
    "import seaborn as sns\n",
    "from scipy import stats\n",
    "import matplotlib.pyplot as plt\n",
    "from scipy.stats import chisquare\n",
    "from scipy.stats import ttest_ind\n",
    "from sklearn.preprocessing import OneHotEncoder\n",
    "from sklearn.linear_model import LogisticRegression\n",
    "from scipy.stats import mannwhitneyu\n",
    "from statsmodels.stats.proportion import proportions_ztest"
   ]
  },
  {
   "cell_type": "markdown",
   "id": "034886a1-c9f6-4efb-b687-a5617f967484",
   "metadata": {},
   "source": [
    "# 1. Загрузка данных"
   ]
  },
  {
   "cell_type": "code",
   "execution_count": 2,
   "id": "2e6726a3-18af-43a4-911a-3b45eac363fa",
   "metadata": {
    "scrolled": true
   },
   "outputs": [
    {
     "data": {
      "text/html": [
       "<div>\n",
       "<style scoped>\n",
       "    .dataframe tbody tr th:only-of-type {\n",
       "        vertical-align: middle;\n",
       "    }\n",
       "\n",
       "    .dataframe tbody tr th {\n",
       "        vertical-align: top;\n",
       "    }\n",
       "\n",
       "    .dataframe thead th {\n",
       "        text-align: right;\n",
       "    }\n",
       "</style>\n",
       "<table border=\"1\" class=\"dataframe\">\n",
       "  <thead>\n",
       "    <tr style=\"text-align: right;\">\n",
       "      <th></th>\n",
       "      <th>id</th>\n",
       "      <th>product</th>\n",
       "      <th>colour</th>\n",
       "      <th>cost</th>\n",
       "      <th>product_sex</th>\n",
       "      <th>base_sale</th>\n",
       "      <th>dt</th>\n",
       "      <th>gender</th>\n",
       "      <th>age</th>\n",
       "      <th>education</th>\n",
       "      <th>city</th>\n",
       "      <th>personal_coef</th>\n",
       "      <th>marketing_one</th>\n",
       "      <th>no_discount</th>\n",
       "      <th>marketing_two</th>\n",
       "      <th>product_group</th>\n",
       "      <th>has_anomaly</th>\n",
       "    </tr>\n",
       "  </thead>\n",
       "  <tbody>\n",
       "    <tr>\n",
       "      <th>0</th>\n",
       "      <td>0</td>\n",
       "      <td>Велосипед горный женский Stern Mira 2.0 26\"</td>\n",
       "      <td>другой</td>\n",
       "      <td>13599</td>\n",
       "      <td>0</td>\n",
       "      <td>1</td>\n",
       "      <td>7</td>\n",
       "      <td>0</td>\n",
       "      <td>36</td>\n",
       "      <td>среднее</td>\n",
       "      <td>1201</td>\n",
       "      <td>0.5072</td>\n",
       "      <td>0</td>\n",
       "      <td>0</td>\n",
       "      <td>0</td>\n",
       "      <td>велосипед горный женский</td>\n",
       "      <td>1</td>\n",
       "    </tr>\n",
       "    <tr>\n",
       "      <th>1</th>\n",
       "      <td>0</td>\n",
       "      <td>Стол Outventure</td>\n",
       "      <td>зеленый</td>\n",
       "      <td>1499</td>\n",
       "      <td>3</td>\n",
       "      <td>0</td>\n",
       "      <td>37</td>\n",
       "      <td>0</td>\n",
       "      <td>36</td>\n",
       "      <td>среднее</td>\n",
       "      <td>1201</td>\n",
       "      <td>0.5072</td>\n",
       "      <td>0</td>\n",
       "      <td>0</td>\n",
       "      <td>0</td>\n",
       "      <td>стол outventure</td>\n",
       "      <td>0</td>\n",
       "    </tr>\n",
       "    <tr>\n",
       "      <th>2</th>\n",
       "      <td>0</td>\n",
       "      <td>Набор Outventure: стол + 4 стула</td>\n",
       "      <td>бежевый</td>\n",
       "      <td>4799</td>\n",
       "      <td>3</td>\n",
       "      <td>0</td>\n",
       "      <td>37</td>\n",
       "      <td>0</td>\n",
       "      <td>36</td>\n",
       "      <td>среднее</td>\n",
       "      <td>1201</td>\n",
       "      <td>0.5072</td>\n",
       "      <td>0</td>\n",
       "      <td>0</td>\n",
       "      <td>0</td>\n",
       "      <td>набор outventure  стол</td>\n",
       "      <td>0</td>\n",
       "    </tr>\n",
       "    <tr>\n",
       "      <th>3</th>\n",
       "      <td>3</td>\n",
       "      <td>Бутсы мужские GSD Astro</td>\n",
       "      <td>белый</td>\n",
       "      <td>1599</td>\n",
       "      <td>1</td>\n",
       "      <td>0</td>\n",
       "      <td>13</td>\n",
       "      <td>1</td>\n",
       "      <td>31</td>\n",
       "      <td>среднее</td>\n",
       "      <td>1134</td>\n",
       "      <td>0.4304</td>\n",
       "      <td>0</td>\n",
       "      <td>0</td>\n",
       "      <td>0</td>\n",
       "      <td>бутсы мужские gsd</td>\n",
       "      <td>0</td>\n",
       "    </tr>\n",
       "    <tr>\n",
       "      <th>4</th>\n",
       "      <td>3</td>\n",
       "      <td>Мяч футбольный PUMA TEAMFINAL 21.2 FIFA QUALIT...</td>\n",
       "      <td>мультицвет</td>\n",
       "      <td>7199</td>\n",
       "      <td>3</td>\n",
       "      <td>0</td>\n",
       "      <td>27</td>\n",
       "      <td>1</td>\n",
       "      <td>31</td>\n",
       "      <td>среднее</td>\n",
       "      <td>1134</td>\n",
       "      <td>0.4304</td>\n",
       "      <td>0</td>\n",
       "      <td>0</td>\n",
       "      <td>0</td>\n",
       "      <td>мяч футбольный puma</td>\n",
       "      <td>0</td>\n",
       "    </tr>\n",
       "    <tr>\n",
       "      <th>...</th>\n",
       "      <td>...</td>\n",
       "      <td>...</td>\n",
       "      <td>...</td>\n",
       "      <td>...</td>\n",
       "      <td>...</td>\n",
       "      <td>...</td>\n",
       "      <td>...</td>\n",
       "      <td>...</td>\n",
       "      <td>...</td>\n",
       "      <td>...</td>\n",
       "      <td>...</td>\n",
       "      <td>...</td>\n",
       "      <td>...</td>\n",
       "      <td>...</td>\n",
       "      <td>...</td>\n",
       "      <td>...</td>\n",
       "      <td>...</td>\n",
       "    </tr>\n",
       "    <tr>\n",
       "      <th>780108</th>\n",
       "      <td>178004</td>\n",
       "      <td>Пакет</td>\n",
       "      <td>коричневый</td>\n",
       "      <td>12</td>\n",
       "      <td>3</td>\n",
       "      <td>0</td>\n",
       "      <td>20</td>\n",
       "      <td>1</td>\n",
       "      <td>52</td>\n",
       "      <td>высшее</td>\n",
       "      <td>1188</td>\n",
       "      <td>0.4688</td>\n",
       "      <td>0</td>\n",
       "      <td>0</td>\n",
       "      <td>0</td>\n",
       "      <td>пакет</td>\n",
       "      <td>0</td>\n",
       "    </tr>\n",
       "    <tr>\n",
       "      <th>780109</th>\n",
       "      <td>178004</td>\n",
       "      <td>Кроссовки мужские FILA Regen</td>\n",
       "      <td>другой</td>\n",
       "      <td>5999</td>\n",
       "      <td>1</td>\n",
       "      <td>0</td>\n",
       "      <td>9</td>\n",
       "      <td>1</td>\n",
       "      <td>52</td>\n",
       "      <td>высшее</td>\n",
       "      <td>1188</td>\n",
       "      <td>0.4688</td>\n",
       "      <td>0</td>\n",
       "      <td>0</td>\n",
       "      <td>0</td>\n",
       "      <td>кроссовки мужские fila</td>\n",
       "      <td>0</td>\n",
       "    </tr>\n",
       "    <tr>\n",
       "      <th>780110</th>\n",
       "      <td>178004</td>\n",
       "      <td>Кроссовки мужские Nike Air Max Sc</td>\n",
       "      <td>другой</td>\n",
       "      <td>13999</td>\n",
       "      <td>1</td>\n",
       "      <td>0</td>\n",
       "      <td>6</td>\n",
       "      <td>1</td>\n",
       "      <td>52</td>\n",
       "      <td>высшее</td>\n",
       "      <td>1188</td>\n",
       "      <td>0.4688</td>\n",
       "      <td>0</td>\n",
       "      <td>0</td>\n",
       "      <td>0</td>\n",
       "      <td>кроссовки мужские nike</td>\n",
       "      <td>1</td>\n",
       "    </tr>\n",
       "    <tr>\n",
       "      <th>780111</th>\n",
       "      <td>178004</td>\n",
       "      <td>Жилет мужской IcePeak Manheim</td>\n",
       "      <td>другой</td>\n",
       "      <td>8699</td>\n",
       "      <td>1</td>\n",
       "      <td>0</td>\n",
       "      <td>9</td>\n",
       "      <td>1</td>\n",
       "      <td>52</td>\n",
       "      <td>высшее</td>\n",
       "      <td>1188</td>\n",
       "      <td>0.4688</td>\n",
       "      <td>0</td>\n",
       "      <td>0</td>\n",
       "      <td>0</td>\n",
       "      <td>жилет мужской icepeak</td>\n",
       "      <td>0</td>\n",
       "    </tr>\n",
       "    <tr>\n",
       "      <th>780112</th>\n",
       "      <td>178004</td>\n",
       "      <td>Полуботинки мужские Columbia Crestwood</td>\n",
       "      <td>синий</td>\n",
       "      <td>7999</td>\n",
       "      <td>1</td>\n",
       "      <td>0</td>\n",
       "      <td>20</td>\n",
       "      <td>1</td>\n",
       "      <td>52</td>\n",
       "      <td>высшее</td>\n",
       "      <td>1188</td>\n",
       "      <td>0.4688</td>\n",
       "      <td>0</td>\n",
       "      <td>0</td>\n",
       "      <td>0</td>\n",
       "      <td>полуботинки мужские columbia</td>\n",
       "      <td>0</td>\n",
       "    </tr>\n",
       "  </tbody>\n",
       "</table>\n",
       "<p>780113 rows × 17 columns</p>\n",
       "</div>"
      ],
      "text/plain": [
       "            id                                            product      colour  \\\n",
       "0            0        Велосипед горный женский Stern Mira 2.0 26\"      другой   \n",
       "1            0                                    Стол Outventure     зеленый   \n",
       "2            0                   Набор Outventure: стол + 4 стула     бежевый   \n",
       "3            3                            Бутсы мужские GSD Astro       белый   \n",
       "4            3  Мяч футбольный PUMA TEAMFINAL 21.2 FIFA QUALIT...  мультицвет   \n",
       "...        ...                                                ...         ...   \n",
       "780108  178004                                              Пакет  коричневый   \n",
       "780109  178004                       Кроссовки мужские FILA Regen      другой   \n",
       "780110  178004                  Кроссовки мужские Nike Air Max Sc      другой   \n",
       "780111  178004                      Жилет мужской IcePeak Manheim      другой   \n",
       "780112  178004             Полуботинки мужские Columbia Crestwood       синий   \n",
       "\n",
       "         cost  product_sex  base_sale  dt  gender  age education  city  \\\n",
       "0       13599            0          1   7       0   36   среднее  1201   \n",
       "1        1499            3          0  37       0   36   среднее  1201   \n",
       "2        4799            3          0  37       0   36   среднее  1201   \n",
       "3        1599            1          0  13       1   31   среднее  1134   \n",
       "4        7199            3          0  27       1   31   среднее  1134   \n",
       "...       ...          ...        ...  ..     ...  ...       ...   ...   \n",
       "780108     12            3          0  20       1   52    высшее  1188   \n",
       "780109   5999            1          0   9       1   52    высшее  1188   \n",
       "780110  13999            1          0   6       1   52    высшее  1188   \n",
       "780111   8699            1          0   9       1   52    высшее  1188   \n",
       "780112   7999            1          0  20       1   52    высшее  1188   \n",
       "\n",
       "        personal_coef  marketing_one  no_discount  marketing_two  \\\n",
       "0              0.5072              0            0              0   \n",
       "1              0.5072              0            0              0   \n",
       "2              0.5072              0            0              0   \n",
       "3              0.4304              0            0              0   \n",
       "4              0.4304              0            0              0   \n",
       "...               ...            ...          ...            ...   \n",
       "780108         0.4688              0            0              0   \n",
       "780109         0.4688              0            0              0   \n",
       "780110         0.4688              0            0              0   \n",
       "780111         0.4688              0            0              0   \n",
       "780112         0.4688              0            0              0   \n",
       "\n",
       "                       product_group  has_anomaly  \n",
       "0           велосипед горный женский            1  \n",
       "1                    стол outventure            0  \n",
       "2             набор outventure  стол            0  \n",
       "3                  бутсы мужские gsd            0  \n",
       "4                мяч футбольный puma            0  \n",
       "...                              ...          ...  \n",
       "780108                         пакет            0  \n",
       "780109        кроссовки мужские fila            0  \n",
       "780110        кроссовки мужские nike            1  \n",
       "780111         жилет мужской icepeak            0  \n",
       "780112  полуботинки мужские columbia            0  \n",
       "\n",
       "[780113 rows x 17 columns]"
      ]
     },
     "execution_count": 2,
     "metadata": {},
     "output_type": "execute_result"
    }
   ],
   "source": [
    "df = pd.read_csv('data/df_summary.csv')\n",
    "df"
   ]
  },
  {
   "cell_type": "markdown",
   "id": "3e3b8616-4a14-4854-b3f9-4e19e237d0ce",
   "metadata": {},
   "source": [
    "# 2. Анализ эксперимента - Первая маркетинговая кампания, проводилась в период с 5-го по 16-й день"
   ]
  },
  {
   "cell_type": "markdown",
   "id": "07c1e45c-dead-41da-a7ef-36b8c543f327",
   "metadata": {},
   "source": [
    "**Вопрос заказчика:** насколько первая маркетинговая кампания была эффективна?\n",
    "\n",
    "**Н0:** Маркетинговая кампания не эффективна\n",
    "\n",
    "**Н1:** Маркетинговая кампания эффективна"
   ]
  },
  {
   "cell_type": "markdown",
   "id": "0043a9f3-e075-44cc-a68f-bfa2dcac20ed",
   "metadata": {},
   "source": [
    "## Тест баланса групп"
   ]
  },
  {
   "cell_type": "code",
   "execution_count": 3,
   "id": "b06dac96-5b14-4735-88c0-837c454b705c",
   "metadata": {},
   "outputs": [
    {
     "name": "stdout",
     "output_type": "stream",
     "text": [
      "Уникальных клиентов:  4960\n",
      "\n",
      "Размерность:  (54517, 17)\n",
      "\n"
     ]
    },
    {
     "data": {
      "text/html": [
       "<div>\n",
       "<style scoped>\n",
       "    .dataframe tbody tr th:only-of-type {\n",
       "        vertical-align: middle;\n",
       "    }\n",
       "\n",
       "    .dataframe tbody tr th {\n",
       "        vertical-align: top;\n",
       "    }\n",
       "\n",
       "    .dataframe thead th {\n",
       "        text-align: right;\n",
       "    }\n",
       "</style>\n",
       "<table border=\"1\" class=\"dataframe\">\n",
       "  <thead>\n",
       "    <tr style=\"text-align: right;\">\n",
       "      <th></th>\n",
       "      <th>id</th>\n",
       "      <th>cost</th>\n",
       "      <th>product_sex</th>\n",
       "      <th>base_sale</th>\n",
       "      <th>dt</th>\n",
       "      <th>gender</th>\n",
       "      <th>age</th>\n",
       "      <th>city</th>\n",
       "      <th>personal_coef</th>\n",
       "      <th>marketing_one</th>\n",
       "      <th>no_discount</th>\n",
       "      <th>marketing_two</th>\n",
       "      <th>has_anomaly</th>\n",
       "    </tr>\n",
       "  </thead>\n",
       "  <tbody>\n",
       "    <tr>\n",
       "      <th>count</th>\n",
       "      <td>54517.000000</td>\n",
       "      <td>54517.000000</td>\n",
       "      <td>54517.000000</td>\n",
       "      <td>54517.000000</td>\n",
       "      <td>54517.000000</td>\n",
       "      <td>54517.000000</td>\n",
       "      <td>54517.000000</td>\n",
       "      <td>54517.000000</td>\n",
       "      <td>54517.000000</td>\n",
       "      <td>54517.0</td>\n",
       "      <td>54517.0</td>\n",
       "      <td>54517.0</td>\n",
       "      <td>54517.000000</td>\n",
       "    </tr>\n",
       "    <tr>\n",
       "      <th>mean</th>\n",
       "      <td>89382.312857</td>\n",
       "      <td>5387.227397</td>\n",
       "      <td>1.320726</td>\n",
       "      <td>0.356017</td>\n",
       "      <td>24.342921</td>\n",
       "      <td>0.550269</td>\n",
       "      <td>38.853752</td>\n",
       "      <td>1133.905828</td>\n",
       "      <td>0.459952</td>\n",
       "      <td>0.0</td>\n",
       "      <td>1.0</td>\n",
       "      <td>0.0</td>\n",
       "      <td>0.152063</td>\n",
       "    </tr>\n",
       "    <tr>\n",
       "      <th>std</th>\n",
       "      <td>50902.991287</td>\n",
       "      <td>10177.088265</td>\n",
       "      <td>1.175850</td>\n",
       "      <td>0.478825</td>\n",
       "      <td>15.956387</td>\n",
       "      <td>0.497471</td>\n",
       "      <td>12.233135</td>\n",
       "      <td>184.623117</td>\n",
       "      <td>0.061329</td>\n",
       "      <td>0.0</td>\n",
       "      <td>0.0</td>\n",
       "      <td>0.0</td>\n",
       "      <td>0.359085</td>\n",
       "    </tr>\n",
       "    <tr>\n",
       "      <th>min</th>\n",
       "      <td>23.000000</td>\n",
       "      <td>12.000000</td>\n",
       "      <td>0.000000</td>\n",
       "      <td>0.000000</td>\n",
       "      <td>0.000000</td>\n",
       "      <td>0.000000</td>\n",
       "      <td>5.000000</td>\n",
       "      <td>0.000000</td>\n",
       "      <td>0.257600</td>\n",
       "      <td>0.0</td>\n",
       "      <td>1.0</td>\n",
       "      <td>0.0</td>\n",
       "      <td>0.000000</td>\n",
       "    </tr>\n",
       "    <tr>\n",
       "      <th>25%</th>\n",
       "      <td>44731.000000</td>\n",
       "      <td>1499.000000</td>\n",
       "      <td>0.000000</td>\n",
       "      <td>0.000000</td>\n",
       "      <td>14.000000</td>\n",
       "      <td>0.000000</td>\n",
       "      <td>31.000000</td>\n",
       "      <td>1134.000000</td>\n",
       "      <td>0.430400</td>\n",
       "      <td>0.0</td>\n",
       "      <td>1.0</td>\n",
       "      <td>0.0</td>\n",
       "      <td>0.000000</td>\n",
       "    </tr>\n",
       "    <tr>\n",
       "      <th>50%</th>\n",
       "      <td>90604.000000</td>\n",
       "      <td>2999.000000</td>\n",
       "      <td>1.000000</td>\n",
       "      <td>0.000000</td>\n",
       "      <td>19.000000</td>\n",
       "      <td>1.000000</td>\n",
       "      <td>38.000000</td>\n",
       "      <td>1168.000000</td>\n",
       "      <td>0.468800</td>\n",
       "      <td>0.0</td>\n",
       "      <td>1.0</td>\n",
       "      <td>0.0</td>\n",
       "      <td>0.000000</td>\n",
       "    </tr>\n",
       "    <tr>\n",
       "      <th>75%</th>\n",
       "      <td>133120.000000</td>\n",
       "      <td>5599.000000</td>\n",
       "      <td>3.000000</td>\n",
       "      <td>1.000000</td>\n",
       "      <td>37.000000</td>\n",
       "      <td>1.000000</td>\n",
       "      <td>47.000000</td>\n",
       "      <td>1188.000000</td>\n",
       "      <td>0.507200</td>\n",
       "      <td>0.0</td>\n",
       "      <td>1.0</td>\n",
       "      <td>0.0</td>\n",
       "      <td>0.000000</td>\n",
       "    </tr>\n",
       "    <tr>\n",
       "      <th>max</th>\n",
       "      <td>177967.000000</td>\n",
       "      <td>446420.000000</td>\n",
       "      <td>3.000000</td>\n",
       "      <td>1.000000</td>\n",
       "      <td>58.000000</td>\n",
       "      <td>1.000000</td>\n",
       "      <td>77.000000</td>\n",
       "      <td>1213.000000</td>\n",
       "      <td>0.558400</td>\n",
       "      <td>0.0</td>\n",
       "      <td>1.0</td>\n",
       "      <td>0.0</td>\n",
       "      <td>1.000000</td>\n",
       "    </tr>\n",
       "  </tbody>\n",
       "</table>\n",
       "</div>"
      ],
      "text/plain": [
       "                  id           cost   product_sex     base_sale            dt  \\\n",
       "count   54517.000000   54517.000000  54517.000000  54517.000000  54517.000000   \n",
       "mean    89382.312857    5387.227397      1.320726      0.356017     24.342921   \n",
       "std     50902.991287   10177.088265      1.175850      0.478825     15.956387   \n",
       "min        23.000000      12.000000      0.000000      0.000000      0.000000   \n",
       "25%     44731.000000    1499.000000      0.000000      0.000000     14.000000   \n",
       "50%     90604.000000    2999.000000      1.000000      0.000000     19.000000   \n",
       "75%    133120.000000    5599.000000      3.000000      1.000000     37.000000   \n",
       "max    177967.000000  446420.000000      3.000000      1.000000     58.000000   \n",
       "\n",
       "             gender           age          city  personal_coef  marketing_one  \\\n",
       "count  54517.000000  54517.000000  54517.000000   54517.000000        54517.0   \n",
       "mean       0.550269     38.853752   1133.905828       0.459952            0.0   \n",
       "std        0.497471     12.233135    184.623117       0.061329            0.0   \n",
       "min        0.000000      5.000000      0.000000       0.257600            0.0   \n",
       "25%        0.000000     31.000000   1134.000000       0.430400            0.0   \n",
       "50%        1.000000     38.000000   1168.000000       0.468800            0.0   \n",
       "75%        1.000000     47.000000   1188.000000       0.507200            0.0   \n",
       "max        1.000000     77.000000   1213.000000       0.558400            0.0   \n",
       "\n",
       "       no_discount  marketing_two   has_anomaly  \n",
       "count      54517.0        54517.0  54517.000000  \n",
       "mean           1.0            0.0      0.152063  \n",
       "std            0.0            0.0      0.359085  \n",
       "min            1.0            0.0      0.000000  \n",
       "25%            1.0            0.0      0.000000  \n",
       "50%            1.0            0.0      0.000000  \n",
       "75%            1.0            0.0      0.000000  \n",
       "max            1.0            0.0      1.000000  "
      ]
     },
     "execution_count": 3,
     "metadata": {},
     "output_type": "execute_result"
    }
   ],
   "source": [
    "# отберём только контрольную группу\n",
    "df_control = df[df['no_discount']==1]\n",
    "# убирём покупки второй маркетинговой компании\n",
    "df_control = df_control[df_control['marketing_two']!=1]\n",
    "c_clients = df_control.id.nunique()\n",
    "print('Уникальных клиентов: ', c_clients)\n",
    "print()\n",
    "print('Размерность: ', df_control.shape)\n",
    "print()\n",
    "df_control.describe()"
   ]
  },
  {
   "cell_type": "code",
   "execution_count": 4,
   "id": "04332b5c-2138-4ed8-9a9e-ab22f95e3021",
   "metadata": {},
   "outputs": [
    {
     "name": "stdout",
     "output_type": "stream",
     "text": [
      "Уникальных клиентов:  4980\n",
      "\n",
      "Размерность:  (62930, 17)\n",
      "\n"
     ]
    },
    {
     "data": {
      "text/html": [
       "<div>\n",
       "<style scoped>\n",
       "    .dataframe tbody tr th:only-of-type {\n",
       "        vertical-align: middle;\n",
       "    }\n",
       "\n",
       "    .dataframe tbody tr th {\n",
       "        vertical-align: top;\n",
       "    }\n",
       "\n",
       "    .dataframe thead th {\n",
       "        text-align: right;\n",
       "    }\n",
       "</style>\n",
       "<table border=\"1\" class=\"dataframe\">\n",
       "  <thead>\n",
       "    <tr style=\"text-align: right;\">\n",
       "      <th></th>\n",
       "      <th>id</th>\n",
       "      <th>cost</th>\n",
       "      <th>product_sex</th>\n",
       "      <th>base_sale</th>\n",
       "      <th>dt</th>\n",
       "      <th>gender</th>\n",
       "      <th>age</th>\n",
       "      <th>city</th>\n",
       "      <th>personal_coef</th>\n",
       "      <th>marketing_one</th>\n",
       "      <th>no_discount</th>\n",
       "      <th>marketing_two</th>\n",
       "      <th>has_anomaly</th>\n",
       "    </tr>\n",
       "  </thead>\n",
       "  <tbody>\n",
       "    <tr>\n",
       "      <th>count</th>\n",
       "      <td>62930.000000</td>\n",
       "      <td>62930.000000</td>\n",
       "      <td>62930.000000</td>\n",
       "      <td>62930.000000</td>\n",
       "      <td>62930.000000</td>\n",
       "      <td>62930.000000</td>\n",
       "      <td>62930.000000</td>\n",
       "      <td>62930.000000</td>\n",
       "      <td>62930.000000</td>\n",
       "      <td>62930.0</td>\n",
       "      <td>62930.0</td>\n",
       "      <td>62930.0</td>\n",
       "      <td>62930.000000</td>\n",
       "    </tr>\n",
       "    <tr>\n",
       "      <th>mean</th>\n",
       "      <td>90790.374337</td>\n",
       "      <td>5231.323900</td>\n",
       "      <td>1.313857</td>\n",
       "      <td>0.352948</td>\n",
       "      <td>22.621913</td>\n",
       "      <td>0.572032</td>\n",
       "      <td>39.105880</td>\n",
       "      <td>1134.819291</td>\n",
       "      <td>0.459981</td>\n",
       "      <td>1.0</td>\n",
       "      <td>0.0</td>\n",
       "      <td>0.0</td>\n",
       "      <td>0.137009</td>\n",
       "    </tr>\n",
       "    <tr>\n",
       "      <th>std</th>\n",
       "      <td>51249.964193</td>\n",
       "      <td>9751.422251</td>\n",
       "      <td>1.164572</td>\n",
       "      <td>0.477890</td>\n",
       "      <td>16.582411</td>\n",
       "      <td>0.494788</td>\n",
       "      <td>12.144628</td>\n",
       "      <td>181.391825</td>\n",
       "      <td>0.058781</td>\n",
       "      <td>0.0</td>\n",
       "      <td>0.0</td>\n",
       "      <td>0.0</td>\n",
       "      <td>0.343860</td>\n",
       "    </tr>\n",
       "    <tr>\n",
       "      <th>min</th>\n",
       "      <td>67.000000</td>\n",
       "      <td>12.000000</td>\n",
       "      <td>0.000000</td>\n",
       "      <td>0.000000</td>\n",
       "      <td>0.000000</td>\n",
       "      <td>0.000000</td>\n",
       "      <td>5.000000</td>\n",
       "      <td>0.000000</td>\n",
       "      <td>0.257600</td>\n",
       "      <td>1.0</td>\n",
       "      <td>0.0</td>\n",
       "      <td>0.0</td>\n",
       "      <td>0.000000</td>\n",
       "    </tr>\n",
       "    <tr>\n",
       "      <th>25%</th>\n",
       "      <td>47107.000000</td>\n",
       "      <td>1445.250000</td>\n",
       "      <td>0.000000</td>\n",
       "      <td>0.000000</td>\n",
       "      <td>9.000000</td>\n",
       "      <td>0.000000</td>\n",
       "      <td>31.000000</td>\n",
       "      <td>1134.000000</td>\n",
       "      <td>0.430400</td>\n",
       "      <td>1.0</td>\n",
       "      <td>0.0</td>\n",
       "      <td>0.0</td>\n",
       "      <td>0.000000</td>\n",
       "    </tr>\n",
       "    <tr>\n",
       "      <th>50%</th>\n",
       "      <td>92525.000000</td>\n",
       "      <td>2999.000000</td>\n",
       "      <td>1.000000</td>\n",
       "      <td>0.000000</td>\n",
       "      <td>17.000000</td>\n",
       "      <td>1.000000</td>\n",
       "      <td>39.000000</td>\n",
       "      <td>1167.000000</td>\n",
       "      <td>0.468800</td>\n",
       "      <td>1.0</td>\n",
       "      <td>0.0</td>\n",
       "      <td>0.0</td>\n",
       "      <td>0.000000</td>\n",
       "    </tr>\n",
       "    <tr>\n",
       "      <th>75%</th>\n",
       "      <td>135577.000000</td>\n",
       "      <td>5499.000000</td>\n",
       "      <td>3.000000</td>\n",
       "      <td>1.000000</td>\n",
       "      <td>36.000000</td>\n",
       "      <td>1.000000</td>\n",
       "      <td>47.000000</td>\n",
       "      <td>1188.000000</td>\n",
       "      <td>0.507200</td>\n",
       "      <td>1.0</td>\n",
       "      <td>0.0</td>\n",
       "      <td>0.0</td>\n",
       "      <td>0.000000</td>\n",
       "    </tr>\n",
       "    <tr>\n",
       "      <th>max</th>\n",
       "      <td>177982.000000</td>\n",
       "      <td>446420.000000</td>\n",
       "      <td>3.000000</td>\n",
       "      <td>1.000000</td>\n",
       "      <td>58.000000</td>\n",
       "      <td>1.000000</td>\n",
       "      <td>77.000000</td>\n",
       "      <td>1213.000000</td>\n",
       "      <td>0.558400</td>\n",
       "      <td>1.0</td>\n",
       "      <td>0.0</td>\n",
       "      <td>0.0</td>\n",
       "      <td>1.000000</td>\n",
       "    </tr>\n",
       "  </tbody>\n",
       "</table>\n",
       "</div>"
      ],
      "text/plain": [
       "                  id           cost   product_sex     base_sale            dt  \\\n",
       "count   62930.000000   62930.000000  62930.000000  62930.000000  62930.000000   \n",
       "mean    90790.374337    5231.323900      1.313857      0.352948     22.621913   \n",
       "std     51249.964193    9751.422251      1.164572      0.477890     16.582411   \n",
       "min        67.000000      12.000000      0.000000      0.000000      0.000000   \n",
       "25%     47107.000000    1445.250000      0.000000      0.000000      9.000000   \n",
       "50%     92525.000000    2999.000000      1.000000      0.000000     17.000000   \n",
       "75%    135577.000000    5499.000000      3.000000      1.000000     36.000000   \n",
       "max    177982.000000  446420.000000      3.000000      1.000000     58.000000   \n",
       "\n",
       "             gender           age          city  personal_coef  marketing_one  \\\n",
       "count  62930.000000  62930.000000  62930.000000   62930.000000        62930.0   \n",
       "mean       0.572032     39.105880   1134.819291       0.459981            1.0   \n",
       "std        0.494788     12.144628    181.391825       0.058781            0.0   \n",
       "min        0.000000      5.000000      0.000000       0.257600            1.0   \n",
       "25%        0.000000     31.000000   1134.000000       0.430400            1.0   \n",
       "50%        1.000000     39.000000   1167.000000       0.468800            1.0   \n",
       "75%        1.000000     47.000000   1188.000000       0.507200            1.0   \n",
       "max        1.000000     77.000000   1213.000000       0.558400            1.0   \n",
       "\n",
       "       no_discount  marketing_two   has_anomaly  \n",
       "count      62930.0        62930.0  62930.000000  \n",
       "mean           0.0            0.0      0.137009  \n",
       "std            0.0            0.0      0.343860  \n",
       "min            0.0            0.0      0.000000  \n",
       "25%            0.0            0.0      0.000000  \n",
       "50%            0.0            0.0      0.000000  \n",
       "75%            0.0            0.0      0.000000  \n",
       "max            0.0            0.0      1.000000  "
      ]
     },
     "execution_count": 4,
     "metadata": {},
     "output_type": "execute_result"
    }
   ],
   "source": [
    "# отберём только тестовую группу\n",
    "df_test = df[df['marketing_one']==1]\n",
    "# убирём покупки второй маркетинговой компании\n",
    "df_test = df_test[df_test['marketing_two']!=1]\n",
    "t_clients = df_test.id.nunique()\n",
    "print('Уникальных клиентов: ', df_test.id.nunique())\n",
    "print()\n",
    "print('Размерность: ', df_test.shape)\n",
    "print()\n",
    "df_test.describe()"
   ]
  },
  {
   "cell_type": "code",
   "execution_count": 5,
   "id": "463d207e-a55a-4560-9e8a-7ef01035cdcf",
   "metadata": {},
   "outputs": [
    {
     "data": {
      "text/plain": [
       "8413"
      ]
     },
     "execution_count": 5,
     "metadata": {},
     "output_type": "execute_result"
    }
   ],
   "source": [
    "df_test.shape[0] - df_control.shape[0]"
   ]
  },
  {
   "cell_type": "markdown",
   "id": "a5908e10-da6c-4784-b1c4-ed7fa82893f7",
   "metadata": {},
   "source": [
    "**Количество покупок в тестовой выборке больше на 8413 покупок чем в контрольной, что говорит о положительном влиянии маркетинговой кампании.**\n",
    "\n",
    "**Влияние базовой скидки на обе группы почти одинаковая 35-36%.**\n",
    "\n",
    "**Соотношение полов в каждой группе, практически одинакова, в тестовой группе мужчин - 57%, в контрольной - 55%.**\n",
    "\n",
    "**Аномальных данных по 1.4-1.5% в обоих группах.**"
   ]
  },
  {
   "cell_type": "code",
   "execution_count": 6,
   "id": "f1dfb6b7-13ca-48ab-b0ff-2acfde48de98",
   "metadata": {},
   "outputs": [],
   "source": [
    "# предположем что:\n",
    "test = t_clients\n",
    "control = c_clients\n",
    "\n",
    "# общий сумарный объём трафика\n",
    "total_traffic = test+control\n",
    "\n",
    "# наблюдаемые данные в группах\n",
    "observed = [test, control]\n",
    "\n",
    "# ожидаемые данные в группах\n",
    "expected = [total_traffic/2, total_traffic/2]"
   ]
  },
  {
   "cell_type": "code",
   "execution_count": 7,
   "id": "e1e9672a-c087-49b2-8b6f-a796bd5e04da",
   "metadata": {},
   "outputs": [
    {
     "name": "stdout",
     "output_type": "stream",
     "text": [
      "Power_divergenceResult(statistic=0.04024144869215292, pvalue=0.8410092360823058)\n"
     ]
    }
   ],
   "source": [
    "# посчитаем значение теста\n",
    "chi = chisquare(observed, f_exp=expected)\n",
    "print(chi)"
   ]
  },
  {
   "cell_type": "code",
   "execution_count": 8,
   "id": "72be6212-c6c0-4e78-abbf-7bc126d826be",
   "metadata": {},
   "outputs": [
    {
     "name": "stdout",
     "output_type": "stream",
     "text": [
      "SRM may not be present - Несоответствие соотношения выборки может отсутствовать\n"
     ]
    }
   ],
   "source": [
    "if chi[1] < 0.01:\n",
    "    print(\"SRM may be present - Может присутствовать несоответствие соотношения выборки\")\n",
    "else:\n",
    "    print(\"SRM may not be present - Несоответствие соотношения выборки может отсутствовать\")"
   ]
  },
  {
   "cell_type": "markdown",
   "id": "f5fc5aec-65d9-46b9-8676-571bc0237050",
   "metadata": {},
   "source": [
    "**Соотношение групп считается статистически одинаковым, pvalue больше 1%, несоответствие соотношения выборок может отсутствовать, баланс групп считается нормальным.**"
   ]
  },
  {
   "cell_type": "markdown",
   "id": "2ce624d4-3764-4863-89d6-9e49cec43731",
   "metadata": {},
   "source": [
    "## Среднее количество покупок, средняя выручка и средний чек на пользователя"
   ]
  },
  {
   "cell_type": "code",
   "execution_count": 9,
   "id": "b1e4832a-ce10-4c68-ab87-544846df44c6",
   "metadata": {},
   "outputs": [
    {
     "name": "stdout",
     "output_type": "stream",
     "text": [
      "Контрольная группа:\n",
      "Среднее количество покупок на пользователя: 10.991330645161291\n",
      "Средняя выручка на пользователя: 59212.79758064516\n",
      "Средний чек: 5387.227396958747\n",
      "Общая выручка: 293695476\n",
      "\n",
      "Тестовая группа:\n",
      "Среднее количество покупок на пользователя: 12.636546184738956, больше контрольной на 15.0 %\n",
      "Средняя выручка на пользователя: 66105.86606425703, больше контрольной на 11.6 %\n",
      "Средний чек: 5231.323899570952, меньше контрольной на 3.0 %\n",
      "Общая выручка: 329207213\n"
     ]
    }
   ],
   "source": [
    "# Группируем контрольную группу по пользователям\n",
    "user_control = df_control.groupby('id').agg(\n",
    "    purchase_count=('id', 'count'),\n",
    "    total_spent=('cost', 'sum')\n",
    ").reset_index()\n",
    "\n",
    "# Группируем тестовую группу по пользователям\n",
    "user_test = df_test.groupby('id').agg(\n",
    "    purchase_count=('id', 'count'),\n",
    "    total_spent=('cost', 'sum')\n",
    ").reset_index()\n",
    "\n",
    "# Посчитаем средние для контрольной группы\n",
    "avg_purchase_count_control = user_control['purchase_count'].mean()\n",
    "avg_total_spent_control = user_control['total_spent'].mean()\n",
    "avg_order_value_control = df_control['cost'].mean()  # или total_spent_control / purchase_count_control\n",
    "# общая выручка контрольной группы\n",
    "total_revenue_control = df_control['cost'].sum()\n",
    "\n",
    "# Посчитаем средние для тестовой группы\n",
    "avg_purchase_count_test = user_test['purchase_count'].mean()\n",
    "avg_total_spent_test = user_test['total_spent'].mean()\n",
    "avg_order_value_test = df_test['cost'].mean()\n",
    "# общая выручка тестовой группы\n",
    "total_revenue_test = df_test['cost'].sum()\n",
    "\n",
    "more_purchase = round(avg_purchase_count_test / avg_purchase_count_control * 100 - 100, 1)\n",
    "more_spent = round(avg_total_spent_test / avg_total_spent_control * 100 - 100, 1)\n",
    "less_order = round(avg_order_value_control / avg_order_value_test * 100 - 100, 1)\n",
    "\n",
    "# Выведем результаты\n",
    "print(\"Контрольная группа:\")\n",
    "print(f\"Среднее количество покупок на пользователя: {avg_purchase_count_control}\")\n",
    "print(f\"Средняя выручка на пользователя: {avg_total_spent_control}\")\n",
    "print(f\"Средний чек: {avg_order_value_control}\")\n",
    "print(f\"Общая выручка: {total_revenue_control}\")\n",
    "\n",
    "print(\"\\nТестовая группа:\")\n",
    "print(f\"Среднее количество покупок на пользователя: {avg_purchase_count_test}, больше контрольной на {more_purchase} %\")\n",
    "print(f\"Средняя выручка на пользователя: {avg_total_spent_test}, больше контрольной на {more_spent} %\")\n",
    "print(f\"Средний чек: {avg_order_value_test}, меньше контрольной на {less_order} %\")\n",
    "print(f\"Общая выручка: {total_revenue_test}\")"
   ]
  },
  {
   "cell_type": "code",
   "execution_count": 15,
   "id": "00ae5783-5579-4e55-aa4e-317216d599af",
   "metadata": {},
   "outputs": [
    {
     "name": "stdout",
     "output_type": "stream",
     "text": [
      "Выручка в тестовой группе больше на 35.6 млн.\n"
     ]
    }
   ],
   "source": [
    "print(f\"Выручка в тестовой группе больше на {round((total_revenue_test - total_revenue_control)/1000000, 1)} млн.\")"
   ]
  },
  {
   "cell_type": "markdown",
   "id": "70ef6bff-fd55-4a47-a495-913f5957e164",
   "metadata": {},
   "source": [
    "**Среднее количество покупок на пользователя в тестовой группе больше на 15%**\n",
    "\n",
    "**Средняя выручка на пользователя в тестовой группе больше на 11.6%**\n",
    "\n",
    "**Общая выручка в тестовой группе увеличилась на 35,6 млн. рублей, что говорит о положительной маркетинговой кампании.**\n",
    "\n",
    "**Средний чек на пользователя в тестовой группу меньше на 3%**\n",
    "\n",
    "**Количество покупок и выручка выросли, маркетинговая кампания простимулировала клиентов положительно на покупки.**\n",
    "\n",
    "**На средний чек повлияло негативно, возможно, кампания стимулировала более частые, но менее дорогие покупки или привлекла сегмент пользователей, склонных к более частым покупкам с меньшим средним чеком**"
   ]
  },
  {
   "cell_type": "markdown",
   "id": "442813c5-6d99-4922-a8af-52b8b66498e4",
   "metadata": {},
   "source": [
    "## Анализ групп перед статистическим тестом эффективности"
   ]
  },
  {
   "cell_type": "markdown",
   "id": "b5b184cc-5bf0-4057-889b-8532abed9803",
   "metadata": {
    "jp-MarkdownHeadingCollapsed": true
   },
   "source": [
    "### Анализ зависимости групп"
   ]
  },
  {
   "cell_type": "code",
   "execution_count": 57,
   "id": "172e2f7b-c03b-45d4-b0f8-f2a6c33fba12",
   "metadata": {},
   "outputs": [
    {
     "data": {
      "text/html": [
       "<div>\n",
       "<style scoped>\n",
       "    .dataframe tbody tr th:only-of-type {\n",
       "        vertical-align: middle;\n",
       "    }\n",
       "\n",
       "    .dataframe tbody tr th {\n",
       "        vertical-align: top;\n",
       "    }\n",
       "\n",
       "    .dataframe thead th {\n",
       "        text-align: right;\n",
       "    }\n",
       "</style>\n",
       "<table border=\"1\" class=\"dataframe\">\n",
       "  <thead>\n",
       "    <tr style=\"text-align: right;\">\n",
       "      <th></th>\n",
       "      <th>id</th>\n",
       "      <th>product_x</th>\n",
       "      <th>colour_x</th>\n",
       "      <th>cost_x</th>\n",
       "      <th>product_sex_x</th>\n",
       "      <th>base_sale_x</th>\n",
       "      <th>dt_x</th>\n",
       "      <th>gender_x</th>\n",
       "      <th>age_x</th>\n",
       "      <th>education_x</th>\n",
       "      <th>...</th>\n",
       "      <th>gender_y</th>\n",
       "      <th>age_y</th>\n",
       "      <th>education_y</th>\n",
       "      <th>city_y</th>\n",
       "      <th>personal_coef_y</th>\n",
       "      <th>marketing_one_y</th>\n",
       "      <th>no_discount_y</th>\n",
       "      <th>marketing_two_y</th>\n",
       "      <th>product_group_y</th>\n",
       "      <th>has_anomaly_y</th>\n",
       "    </tr>\n",
       "  </thead>\n",
       "  <tbody>\n",
       "  </tbody>\n",
       "</table>\n",
       "<p>0 rows × 33 columns</p>\n",
       "</div>"
      ],
      "text/plain": [
       "Empty DataFrame\n",
       "Columns: [id, product_x, colour_x, cost_x, product_sex_x, base_sale_x, dt_x, gender_x, age_x, education_x, city_x, personal_coef_x, marketing_one_x, no_discount_x, marketing_two_x, product_group_x, has_anomaly_x, product_y, colour_y, cost_y, product_sex_y, base_sale_y, dt_y, gender_y, age_y, education_y, city_y, personal_coef_y, marketing_one_y, no_discount_y, marketing_two_y, product_group_y, has_anomaly_y]\n",
       "Index: []\n",
       "\n",
       "[0 rows x 33 columns]"
      ]
     },
     "execution_count": 57,
     "metadata": {},
     "output_type": "execute_result"
    }
   ],
   "source": [
    "pd.merge(df_control, df_test, how='inner', on=['id'])"
   ]
  },
  {
   "cell_type": "markdown",
   "id": "cf22cec1-385b-4313-8b52-f63ad1954d03",
   "metadata": {},
   "source": [
    "**При объединение таблиц по id, совподающих нету, поэтому группы считаются независимы.**"
   ]
  },
  {
   "cell_type": "markdown",
   "id": "32f409f0-6bfd-43da-8777-0b7d76500939",
   "metadata": {},
   "source": [
    "Зависимые vs Независимые группы\n",
    "Независимые группы (чаще всего в А/B тестах)\n",
    "Как понять: Это когда разные люди попадают в разные группы случайным образом.\n",
    "\n",
    "Примеры:\n",
    "\n",
    "1000 пользователей случайно делятся на 2 группы по 500\n",
    "\n",
    "Группа A видит старый дизайн, группа B — новый\n",
    "\n",
    "Каждый пользователь находится только в одной группе\n",
    "\n",
    "Признаки:\n",
    "\n",
    "Участники в группе A и группе B — это разные люди\n",
    "\n",
    "Нет никакой связи между конкретным человеком в группе A и конкретным человеком в группе B\n",
    "\n",
    "Зависимые группы (парные выборки)\n",
    "Как понять: Когда мы измеряем одних и тех же людей/объектов в разных условиях.\n",
    "\n",
    "Примеры:\n",
    "\n",
    "Измерили давление у людей до лекарства и после\n",
    "\n",
    "Один и тот же пользователь оценивает старую и новую версию сайта\n",
    "\n",
    "Сравнение продаж в одних и тех же магазинах до и после акции\n",
    "\n",
    "Признаки:\n",
    "\n",
    "Те же самые участники в обеих группах\n",
    "\n",
    "Есть прямая связь между измерениями\n",
    "\n",
    "Как проверить на практике:\n",
    "1. Спросите себя:\n",
    "\"Это одни и те же люди?\" → Если ДА → зависимые группы\n",
    "\n",
    "\"Это разные люди?\" → Если ДА → независимые группы\n",
    "\n",
    "2. Посмотрите на дизайн эксперимента:\n",
    "Случайное разделение на группы → независимые\n",
    "\n",
    "Измерения \"до/после\" → зависимые"
   ]
  },
  {
   "cell_type": "markdown",
   "id": "6435b175-c5e1-431d-bfee-bc50c77b5678",
   "metadata": {
    "jp-MarkdownHeadingCollapsed": true
   },
   "source": [
    "### Анализ количества покупок на одного пользователя"
   ]
  },
  {
   "cell_type": "markdown",
   "id": "4ab1113a-7d39-4a1f-82e4-0597477c0bfa",
   "metadata": {
    "jp-MarkdownHeadingCollapsed": true
   },
   "source": [
    "#### Распределение"
   ]
  },
  {
   "cell_type": "code",
   "execution_count": 58,
   "id": "a4214ff3-8b9e-4bd5-97fe-f53ebad5065b",
   "metadata": {},
   "outputs": [
    {
     "data": {
      "image/png": "[encoded data removed]",
      "text/plain": [
       "<Figure size 1200x500 with 2 Axes>"
      ]
     },
     "metadata": {},
     "output_type": "display_data"
    }
   ],
   "source": [
    "plt.figure(figsize=(12, 5))\n",
    "plt.suptitle('Распределение количество покупок на одного пользователя', fontsize=15)\n",
    "plt.subplots_adjust(top=0.85)\n",
    "\n",
    "plt.subplot(1, 2, 1)\n",
    "sns.histplot(user_control['purchase_count'], kde=True)\n",
    "plt.title(\"Контрольная группа\")\n",
    "\n",
    "plt.subplot(1, 2, 2)\n",
    "sns.histplot(user_test['purchase_count'], kde=True)\n",
    "plt.title(\"Тестовая группа\")\n",
    "plt.show()"
   ]
  },
  {
   "cell_type": "markdown",
   "id": "34f3e160-dc81-42ba-b901-16c0a0cba7e1",
   "metadata": {},
   "source": [
    "**Тест Шапиро - Уилка** - Для проверки нормального распределения\n",
    "\n",
    "порог значимости 5%"
   ]
  },
  {
   "cell_type": "code",
   "execution_count": 59,
   "id": "4ceb0452-010d-4155-8f60-18c7d7321441",
   "metadata": {},
   "outputs": [
    {
     "data": {
      "text/plain": [
       "ShapiroResult(statistic=0.3887054499744955, pvalue=2.3535339313495854e-84)"
      ]
     },
     "execution_count": 59,
     "metadata": {},
     "output_type": "execute_result"
    }
   ],
   "source": [
    "stats.shapiro(user_control['purchase_count']) \n",
    "# используем тест Шапиро - Уилка для контрольной группы"
   ]
  },
  {
   "cell_type": "code",
   "execution_count": 60,
   "id": "8d0974d5-1879-4f36-b811-83cefcf50704",
   "metadata": {},
   "outputs": [
    {
     "data": {
      "text/plain": [
       "ShapiroResult(statistic=0.519335458038387, pvalue=3.3395545830157135e-79)"
      ]
     },
     "execution_count": 60,
     "metadata": {},
     "output_type": "execute_result"
    }
   ],
   "source": [
    "stats.shapiro(user_test['purchase_count']) \n",
    "# используем тест Шапиро - Уилка для тестовой группы"
   ]
  },
  {
   "cell_type": "markdown",
   "id": "017d3e24-8cf9-4f79-9125-5a17d02dfe1c",
   "metadata": {},
   "source": [
    "**Визуализация и Тест Шапиро - Уилка показали что не подходят под нормальное распределение pvalue меньше 5%.**"
   ]
  },
  {
   "cell_type": "markdown",
   "id": "cee21b8b-5c20-4d99-a2ed-eca56eb48fab",
   "metadata": {},
   "source": [
    "#### Вывод"
   ]
  },
  {
   "cell_type": "markdown",
   "id": "a836e2e3-7606-4923-a048-f6460554eed1",
   "metadata": {},
   "source": [
    "**Группы независимы и не имеют нормального распределения - поэтому выбирается статистический Тест Манна-Уитни.**"
   ]
  },
  {
   "cell_type": "markdown",
   "id": "5c40abf6-bc22-4d2c-940c-1859e89e6d8c",
   "metadata": {
    "jp-MarkdownHeadingCollapsed": true
   },
   "source": [
    "### Анализ выручки на одного пользователя"
   ]
  },
  {
   "cell_type": "markdown",
   "id": "87eb163b-aac6-49c8-b341-dcb1638784a1",
   "metadata": {},
   "source": [
    "#### Распределение"
   ]
  },
  {
   "cell_type": "code",
   "execution_count": 61,
   "id": "e980282a-5951-4c69-a123-272d5d1960f2",
   "metadata": {},
   "outputs": [
    {
     "data": {
      "image/png": "[encoded data removed]",
      "text/plain": [
       "<Figure size 1200x500 with 2 Axes>"
      ]
     },
     "metadata": {},
     "output_type": "display_data"
    }
   ],
   "source": [
    "plt.figure(figsize=(12, 5))\n",
    "plt.suptitle('Распределение выручки на одного пользователя', fontsize=15)\n",
    "plt.subplots_adjust(top=0.85)\n",
    "\n",
    "plt.subplot(1, 2, 1)\n",
    "sns.histplot(user_control['total_spent'], kde=True)\n",
    "plt.title(\"Контрольная группа\")\n",
    "\n",
    "plt.subplot(1, 2, 2)\n",
    "sns.histplot(user_test['total_spent'], kde=True)\n",
    "plt.title(\"Тестовая группа\")\n",
    "plt.show()"
   ]
  },
  {
   "cell_type": "code",
   "execution_count": 62,
   "id": "f0098343-7f83-47c7-8847-b339296a2e29",
   "metadata": {},
   "outputs": [
    {
     "name": "stdout",
     "output_type": "stream",
     "text": [
      "Контрольная группа:  ShapiroResult(statistic=0.3887054499744955, pvalue=2.3535339313495854e-84)\n",
      "Тестовая группа:  ShapiroResult(statistic=0.519335458038387, pvalue=3.3395545830157135e-79)\n"
     ]
    }
   ],
   "source": [
    "# используем тест Шапиро - Уилка для тестовой группы\n",
    "print('Контрольная группа: ', stats.shapiro(user_control['purchase_count']))\n",
    "print('Тестовая группа: ', stats.shapiro(user_test['purchase_count']))"
   ]
  },
  {
   "cell_type": "markdown",
   "id": "3b339a8a-0be1-4a88-b6c7-49d862479223",
   "metadata": {},
   "source": [
    "**Визуализация и Тест Шапиро - Уилка показали что не подходят под нормальное распределение.**"
   ]
  },
  {
   "cell_type": "markdown",
   "id": "f98fcdff-afd2-46d1-b288-f24d3f645b5c",
   "metadata": {},
   "source": [
    "#### Вывод"
   ]
  },
  {
   "cell_type": "markdown",
   "id": "495757f3-a3bb-42f1-93e4-f82a5c2eb90a",
   "metadata": {},
   "source": [
    "**Группы независимы и не имеют нормального распределения - поэтому выбирается статистический Тест Манна-Уитни.**"
   ]
  },
  {
   "cell_type": "markdown",
   "id": "bf6851bb-d383-4ee9-b9f4-b1fb22e75684",
   "metadata": {},
   "source": [
    "### Анализ среднего чека на одного пользователя"
   ]
  },
  {
   "cell_type": "markdown",
   "id": "a83a65af-30e0-4333-bc12-2a386507d076",
   "metadata": {
    "jp-MarkdownHeadingCollapsed": true
   },
   "source": [
    "#### Распределение"
   ]
  },
  {
   "cell_type": "code",
   "execution_count": 63,
   "id": "0a3ee40d-ba24-4f44-be74-d3bb0aedd43d",
   "metadata": {},
   "outputs": [
    {
     "data": {
      "image/png": "[encoded data removed]",
      "text/plain": [
       "<Figure size 1200x500 with 2 Axes>"
      ]
     },
     "metadata": {},
     "output_type": "display_data"
    }
   ],
   "source": [
    "plt.figure(figsize=(12, 5))\n",
    "plt.suptitle('Распределение среднего чека на одного пользователя', fontsize=15)\n",
    "plt.subplots_adjust(top=0.85)\n",
    "\n",
    "plt.subplot(1, 2, 1)\n",
    "sns.histplot(df_control['cost'], kde=True)\n",
    "plt.title(\"Контрольная группа\")\n",
    "\n",
    "plt.subplot(1, 2, 2)\n",
    "sns.histplot(df_test['cost'], kde=True)\n",
    "plt.title(\"Тестовая группа\")\n",
    "plt.show()"
   ]
  },
  {
   "cell_type": "code",
   "execution_count": 65,
   "id": "6a027d84-af3a-475f-80ac-279a4f2af941",
   "metadata": {},
   "outputs": [
    {
     "name": "stdout",
     "output_type": "stream",
     "text": [
      "Контрольная группа:  ShapiroResult(statistic=0.3821521018223385, pvalue=8.102535177527361e-151)\n",
      "Тестовая группа:  ShapiroResult(statistic=0.3833194341112892, pvalue=7.594505425523485e-155)\n"
     ]
    }
   ],
   "source": [
    "# используем тест Шапиро - Уилка для тестовой группы\n",
    "print('Контрольная группа: ', stats.shapiro(df_control['cost']))\n",
    "print('Тестовая группа: ', stats.shapiro(df_test['cost']))"
   ]
  },
  {
   "cell_type": "markdown",
   "id": "e5d87544-322d-4a3d-8987-ad0881c0688d",
   "metadata": {},
   "source": [
    "**Визуализация и Тест Шапиро - Уилка показали что не подходят под нормальное распределение.**"
   ]
  },
  {
   "cell_type": "markdown",
   "id": "172b57f4-4343-4c0c-9949-4b04e4db0336",
   "metadata": {},
   "source": [
    "#### Вывод"
   ]
  },
  {
   "cell_type": "markdown",
   "id": "e7089716-f456-4ebe-8219-b01e7d19d764",
   "metadata": {},
   "source": [
    "**Группы независимы и не имеют нормального распределения - поэтому выбирается статистический Тест Манна-Уитни.**"
   ]
  },
  {
   "cell_type": "markdown",
   "id": "4987b83f-e2ee-4f19-a811-e248de728400",
   "metadata": {},
   "source": [
    "### Вывод"
   ]
  },
  {
   "attachments": {
    "3fc6f332-fc32-44bf-97de-79cbb145c00f.png": {
     "image/png": "[encoded data removed]"
    }
   },
   "cell_type": "markdown",
   "id": "a82ab1a4-45a5-4c71-a76e-556bae4875d6",
   "metadata": {},
   "source": [
    "![Выбор теста small.png](attachment:3fc6f332-fc32-44bf-97de-79cbb145c00f.png)"
   ]
  },
  {
   "cell_type": "markdown",
   "id": "add541c6-de87-41b5-8ab0-c1596f327dab",
   "metadata": {},
   "source": [
    "**Для всех метрик применяю стистический тест Манна-Уитни**"
   ]
  },
  {
   "cell_type": "markdown",
   "id": "5c4eec5b-cc03-4b8e-8e1f-47cb75d7fc7b",
   "metadata": {},
   "source": [
    "## Стистический тест Манна-Уитни для проверки"
   ]
  },
  {
   "cell_type": "code",
   "execution_count": 66,
   "id": "61df140e-1094-4404-b931-cf86d40a53d2",
   "metadata": {},
   "outputs": [
    {
     "name": "stdout",
     "output_type": "stream",
     "text": [
      "Манн-Уитни для количества покупок: stat=10258933.0, p=1.3286090165251081e-48\n",
      "\n",
      "\n",
      "Манн-Уитни для выручки на пользователя: stat=10824492.0, p=1.4501033733582358e-26\n",
      "\n",
      "\n",
      "Манн-Уитни для среднего чека: stat=1728643610.5, p=0.022044081675299927\n",
      "\n"
     ]
    }
   ],
   "source": [
    "# Для количества покупок на пользователя\n",
    "stat, p = mannwhitneyu(user_control['purchase_count'], user_test['purchase_count'])\n",
    "print(f\"Манн-Уитни для количества покупок: stat={stat}, p={p}\")\n",
    "print()\n",
    "print()\n",
    "# Для выручки на пользователя\n",
    "stat2, p2 = mannwhitneyu(user_control['total_spent'], user_test['total_spent'])\n",
    "print(f\"Манн-Уитни для выручки на пользователя: stat={stat2}, p={p2}\")\n",
    "print()\n",
    "print()\n",
    "# Для среднего чека (на уровне покупок)\n",
    "stat3, p3 = mannwhitneyu(df_control['cost'], df_test['cost'])\n",
    "print(f\"Манн-Уитни для среднего чека: stat={stat3}, p={p3}\")\n",
    "print()"
   ]
  },
  {
   "cell_type": "markdown",
   "id": "03f2263e-01b7-43bf-9ff3-178cf52c40a0",
   "metadata": {},
   "source": [
    "**Существует статистически значимая разница в количестве покупок между группами, маркетинговая кампания значимо повлияла на частоту покупок**\n",
    "\n",
    "**Существует статистически значимая разница в выручке на пользователя между группами, маркетинговая кампания значимо повлияла на общую выручку**\n",
    "\n",
    "**Разница в среднем чеке статистически значима, но менее выражена.**"
   ]
  },
  {
   "cell_type": "markdown",
   "id": "2e296beb-d23e-431b-9cd1-e0336038e729",
   "metadata": {},
   "source": [
    "## Вывод"
   ]
  },
  {
   "cell_type": "markdown",
   "id": "3d5209cb-c977-4100-b19b-25b1be840057",
   "metadata": {},
   "source": [
    "**Отвергается нулевая гипотеза и применяется альтернативная гипотеза.**\n",
    "\n",
    "**Н1:** Маркетинговая кампания эффективна\n",
    "****\n",
    "\n",
    "Кампания успешна - она привела к значимому увеличению ключевых метрик\n",
    "\n",
    "Фокус на частоту покупок - кампания особенно эффективна для увеличения количества транзакций, увеличение составило на 15%\n",
    "\n",
    "Эффективность так же отразилась на выручке, увеличение составило на 11.6%\n",
    "\n",
    "Средний чек снизился значимо, возможно, пользователи стали покупать более дешевые товары или маркетинговая кампания проводилась с ниже средним чеком\n",
    "\n",
    "****\n",
    "Рекомендации:\n",
    "\n",
    "Продолжить/масштабировать данную маркетинговую стратегию\n",
    "\n",
    "Проанализировать причины снижения среднего чека:\n",
    "\n",
    "Возможно, предложить дополнительные стимулы для увеличения суммы покупок\n",
    "\n",
    "Или сфокусироваться на перекрестных продажах\n",
    "\n",
    "Изучить, какие именно аспекты кампании вызвали увеличение частоты покупок"
   ]
  },
  {
   "cell_type": "markdown",
   "id": "d2982ec2-8869-4a34-ad42-dea81d8fb9a4",
   "metadata": {},
   "source": [
    "# 3. Вторая маркетинговая кампания, проводилась на жителях города 1134 и скидка всем каждое 15-е число месяца (15-й и 45-й день в нашем случае)"
   ]
  },
  {
   "cell_type": "markdown",
   "id": "be92ea7c-9ae8-4e51-86c5-2a5df0eaf539",
   "metadata": {},
   "source": [
    "**Вопрос заказчика:** насколько вторая маркетинговая кампания была эффективна?\n",
    "\n",
    "**Н0:** Маркетинговая кампания не эффективна\n",
    "\n",
    "**Н1:** Маркетинговая кампания эффективна"
   ]
  },
  {
   "cell_type": "code",
   "execution_count": 13,
   "id": "f44e9a1c-021f-49f9-9ecc-24a43aecc872",
   "metadata": {},
   "outputs": [
    {
     "name": "stdout",
     "output_type": "stream",
     "text": [
      "Размер:  (9896, 17)\n"
     ]
    }
   ],
   "source": [
    "# Выбрал только вторую маркетинговую компанию\n",
    "df_two = df[(df['marketing_two'] == 1) & (df['marketing_one'] != 1)]\n",
    "print('Размер: ', df_two.shape)"
   ]
  },
  {
   "cell_type": "code",
   "execution_count": 14,
   "id": "47d0cca9-0022-4383-a6e9-1584d53918b0",
   "metadata": {},
   "outputs": [
    {
     "data": {
      "text/html": [
       "<div>\n",
       "<style scoped>\n",
       "    .dataframe tbody tr th:only-of-type {\n",
       "        vertical-align: middle;\n",
       "    }\n",
       "\n",
       "    .dataframe tbody tr th {\n",
       "        vertical-align: top;\n",
       "    }\n",
       "\n",
       "    .dataframe thead th {\n",
       "        text-align: right;\n",
       "    }\n",
       "</style>\n",
       "<table border=\"1\" class=\"dataframe\">\n",
       "  <thead>\n",
       "    <tr style=\"text-align: right;\">\n",
       "      <th></th>\n",
       "      <th>id</th>\n",
       "      <th>product</th>\n",
       "      <th>colour</th>\n",
       "      <th>cost</th>\n",
       "      <th>product_sex</th>\n",
       "      <th>base_sale</th>\n",
       "      <th>dt</th>\n",
       "      <th>gender</th>\n",
       "      <th>age</th>\n",
       "      <th>education</th>\n",
       "      <th>city</th>\n",
       "      <th>personal_coef</th>\n",
       "      <th>marketing_one</th>\n",
       "      <th>no_discount</th>\n",
       "      <th>marketing_two</th>\n",
       "      <th>product_group</th>\n",
       "      <th>has_anomaly</th>\n",
       "    </tr>\n",
       "  </thead>\n",
       "  <tbody>\n",
       "    <tr>\n",
       "      <th>count</th>\n",
       "      <td>9896.000000</td>\n",
       "      <td>9896</td>\n",
       "      <td>9896</td>\n",
       "      <td>9896.000000</td>\n",
       "      <td>9896.000000</td>\n",
       "      <td>9896.000000</td>\n",
       "      <td>9896.000000</td>\n",
       "      <td>9896.000000</td>\n",
       "      <td>9896.000000</td>\n",
       "      <td>9896</td>\n",
       "      <td>9896.0</td>\n",
       "      <td>9896.000000</td>\n",
       "      <td>9896.0</td>\n",
       "      <td>9896.000000</td>\n",
       "      <td>9896.0</td>\n",
       "      <td>9896</td>\n",
       "      <td>9896.000000</td>\n",
       "    </tr>\n",
       "    <tr>\n",
       "      <th>unique</th>\n",
       "      <td>NaN</td>\n",
       "      <td>4538</td>\n",
       "      <td>50</td>\n",
       "      <td>NaN</td>\n",
       "      <td>NaN</td>\n",
       "      <td>NaN</td>\n",
       "      <td>NaN</td>\n",
       "      <td>NaN</td>\n",
       "      <td>NaN</td>\n",
       "      <td>2</td>\n",
       "      <td>NaN</td>\n",
       "      <td>NaN</td>\n",
       "      <td>NaN</td>\n",
       "      <td>NaN</td>\n",
       "      <td>NaN</td>\n",
       "      <td>2204</td>\n",
       "      <td>NaN</td>\n",
       "    </tr>\n",
       "    <tr>\n",
       "      <th>top</th>\n",
       "      <td>NaN</td>\n",
       "      <td>Брюки мужские Demix</td>\n",
       "      <td>другой</td>\n",
       "      <td>NaN</td>\n",
       "      <td>NaN</td>\n",
       "      <td>NaN</td>\n",
       "      <td>NaN</td>\n",
       "      <td>NaN</td>\n",
       "      <td>NaN</td>\n",
       "      <td>среднее</td>\n",
       "      <td>NaN</td>\n",
       "      <td>NaN</td>\n",
       "      <td>NaN</td>\n",
       "      <td>NaN</td>\n",
       "      <td>NaN</td>\n",
       "      <td>кроссовки мужские nike</td>\n",
       "      <td>NaN</td>\n",
       "    </tr>\n",
       "    <tr>\n",
       "      <th>freq</th>\n",
       "      <td>NaN</td>\n",
       "      <td>55</td>\n",
       "      <td>3540</td>\n",
       "      <td>NaN</td>\n",
       "      <td>NaN</td>\n",
       "      <td>NaN</td>\n",
       "      <td>NaN</td>\n",
       "      <td>NaN</td>\n",
       "      <td>NaN</td>\n",
       "      <td>8266</td>\n",
       "      <td>NaN</td>\n",
       "      <td>NaN</td>\n",
       "      <td>NaN</td>\n",
       "      <td>NaN</td>\n",
       "      <td>NaN</td>\n",
       "      <td>130</td>\n",
       "      <td>NaN</td>\n",
       "    </tr>\n",
       "    <tr>\n",
       "      <th>mean</th>\n",
       "      <td>88927.046281</td>\n",
       "      <td>NaN</td>\n",
       "      <td>NaN</td>\n",
       "      <td>5854.654507</td>\n",
       "      <td>1.323666</td>\n",
       "      <td>0.346403</td>\n",
       "      <td>25.367825</td>\n",
       "      <td>0.555477</td>\n",
       "      <td>39.301435</td>\n",
       "      <td>NaN</td>\n",
       "      <td>1134.0</td>\n",
       "      <td>0.461119</td>\n",
       "      <td>0.0</td>\n",
       "      <td>0.091451</td>\n",
       "      <td>1.0</td>\n",
       "      <td>NaN</td>\n",
       "      <td>0.162490</td>\n",
       "    </tr>\n",
       "    <tr>\n",
       "      <th>std</th>\n",
       "      <td>51988.062906</td>\n",
       "      <td>NaN</td>\n",
       "      <td>NaN</td>\n",
       "      <td>10854.249116</td>\n",
       "      <td>1.175817</td>\n",
       "      <td>0.475847</td>\n",
       "      <td>14.267569</td>\n",
       "      <td>0.496938</td>\n",
       "      <td>12.259160</td>\n",
       "      <td>NaN</td>\n",
       "      <td>0.0</td>\n",
       "      <td>0.058803</td>\n",
       "      <td>0.0</td>\n",
       "      <td>0.288264</td>\n",
       "      <td>0.0</td>\n",
       "      <td>NaN</td>\n",
       "      <td>0.368918</td>\n",
       "    </tr>\n",
       "    <tr>\n",
       "      <th>min</th>\n",
       "      <td>98.000000</td>\n",
       "      <td>NaN</td>\n",
       "      <td>NaN</td>\n",
       "      <td>25.000000</td>\n",
       "      <td>0.000000</td>\n",
       "      <td>0.000000</td>\n",
       "      <td>15.000000</td>\n",
       "      <td>0.000000</td>\n",
       "      <td>6.000000</td>\n",
       "      <td>NaN</td>\n",
       "      <td>1134.0</td>\n",
       "      <td>0.257600</td>\n",
       "      <td>0.0</td>\n",
       "      <td>0.000000</td>\n",
       "      <td>1.0</td>\n",
       "      <td>NaN</td>\n",
       "      <td>0.000000</td>\n",
       "    </tr>\n",
       "    <tr>\n",
       "      <th>25%</th>\n",
       "      <td>44515.000000</td>\n",
       "      <td>NaN</td>\n",
       "      <td>NaN</td>\n",
       "      <td>1539.000000</td>\n",
       "      <td>0.000000</td>\n",
       "      <td>0.000000</td>\n",
       "      <td>15.000000</td>\n",
       "      <td>0.000000</td>\n",
       "      <td>32.000000</td>\n",
       "      <td>NaN</td>\n",
       "      <td>1134.0</td>\n",
       "      <td>0.430400</td>\n",
       "      <td>0.0</td>\n",
       "      <td>0.000000</td>\n",
       "      <td>1.0</td>\n",
       "      <td>NaN</td>\n",
       "      <td>0.000000</td>\n",
       "    </tr>\n",
       "    <tr>\n",
       "      <th>50%</th>\n",
       "      <td>88556.000000</td>\n",
       "      <td>NaN</td>\n",
       "      <td>NaN</td>\n",
       "      <td>3199.000000</td>\n",
       "      <td>1.000000</td>\n",
       "      <td>0.000000</td>\n",
       "      <td>15.000000</td>\n",
       "      <td>1.000000</td>\n",
       "      <td>39.000000</td>\n",
       "      <td>NaN</td>\n",
       "      <td>1134.0</td>\n",
       "      <td>0.468800</td>\n",
       "      <td>0.0</td>\n",
       "      <td>0.000000</td>\n",
       "      <td>1.0</td>\n",
       "      <td>NaN</td>\n",
       "      <td>0.000000</td>\n",
       "    </tr>\n",
       "    <tr>\n",
       "      <th>75%</th>\n",
       "      <td>133881.750000</td>\n",
       "      <td>NaN</td>\n",
       "      <td>NaN</td>\n",
       "      <td>5999.000000</td>\n",
       "      <td>3.000000</td>\n",
       "      <td>1.000000</td>\n",
       "      <td>45.000000</td>\n",
       "      <td>1.000000</td>\n",
       "      <td>47.000000</td>\n",
       "      <td>NaN</td>\n",
       "      <td>1134.0</td>\n",
       "      <td>0.507200</td>\n",
       "      <td>0.0</td>\n",
       "      <td>0.000000</td>\n",
       "      <td>1.0</td>\n",
       "      <td>NaN</td>\n",
       "      <td>0.000000</td>\n",
       "    </tr>\n",
       "    <tr>\n",
       "      <th>max</th>\n",
       "      <td>177966.000000</td>\n",
       "      <td>NaN</td>\n",
       "      <td>NaN</td>\n",
       "      <td>299999.000000</td>\n",
       "      <td>3.000000</td>\n",
       "      <td>1.000000</td>\n",
       "      <td>45.000000</td>\n",
       "      <td>1.000000</td>\n",
       "      <td>77.000000</td>\n",
       "      <td>NaN</td>\n",
       "      <td>1134.0</td>\n",
       "      <td>0.558400</td>\n",
       "      <td>0.0</td>\n",
       "      <td>1.000000</td>\n",
       "      <td>1.0</td>\n",
       "      <td>NaN</td>\n",
       "      <td>1.000000</td>\n",
       "    </tr>\n",
       "  </tbody>\n",
       "</table>\n",
       "</div>"
      ],
      "text/plain": [
       "                   id              product  colour           cost  \\\n",
       "count     9896.000000                 9896    9896    9896.000000   \n",
       "unique            NaN                 4538      50            NaN   \n",
       "top               NaN  Брюки мужские Demix  другой            NaN   \n",
       "freq              NaN                   55    3540            NaN   \n",
       "mean     88927.046281                  NaN     NaN    5854.654507   \n",
       "std      51988.062906                  NaN     NaN   10854.249116   \n",
       "min         98.000000                  NaN     NaN      25.000000   \n",
       "25%      44515.000000                  NaN     NaN    1539.000000   \n",
       "50%      88556.000000                  NaN     NaN    3199.000000   \n",
       "75%     133881.750000                  NaN     NaN    5999.000000   \n",
       "max     177966.000000                  NaN     NaN  299999.000000   \n",
       "\n",
       "        product_sex    base_sale           dt       gender          age  \\\n",
       "count   9896.000000  9896.000000  9896.000000  9896.000000  9896.000000   \n",
       "unique          NaN          NaN          NaN          NaN          NaN   \n",
       "top             NaN          NaN          NaN          NaN          NaN   \n",
       "freq            NaN          NaN          NaN          NaN          NaN   \n",
       "mean       1.323666     0.346403    25.367825     0.555477    39.301435   \n",
       "std        1.175817     0.475847    14.267569     0.496938    12.259160   \n",
       "min        0.000000     0.000000    15.000000     0.000000     6.000000   \n",
       "25%        0.000000     0.000000    15.000000     0.000000    32.000000   \n",
       "50%        1.000000     0.000000    15.000000     1.000000    39.000000   \n",
       "75%        3.000000     1.000000    45.000000     1.000000    47.000000   \n",
       "max        3.000000     1.000000    45.000000     1.000000    77.000000   \n",
       "\n",
       "       education    city  personal_coef  marketing_one  no_discount  \\\n",
       "count       9896  9896.0    9896.000000         9896.0  9896.000000   \n",
       "unique         2     NaN            NaN            NaN          NaN   \n",
       "top      среднее     NaN            NaN            NaN          NaN   \n",
       "freq        8266     NaN            NaN            NaN          NaN   \n",
       "mean         NaN  1134.0       0.461119            0.0     0.091451   \n",
       "std          NaN     0.0       0.058803            0.0     0.288264   \n",
       "min          NaN  1134.0       0.257600            0.0     0.000000   \n",
       "25%          NaN  1134.0       0.430400            0.0     0.000000   \n",
       "50%          NaN  1134.0       0.468800            0.0     0.000000   \n",
       "75%          NaN  1134.0       0.507200            0.0     0.000000   \n",
       "max          NaN  1134.0       0.558400            0.0     1.000000   \n",
       "\n",
       "        marketing_two           product_group  has_anomaly  \n",
       "count          9896.0                    9896  9896.000000  \n",
       "unique            NaN                    2204          NaN  \n",
       "top               NaN  кроссовки мужские nike          NaN  \n",
       "freq              NaN                     130          NaN  \n",
       "mean              1.0                     NaN     0.162490  \n",
       "std               0.0                     NaN     0.368918  \n",
       "min               1.0                     NaN     0.000000  \n",
       "25%               1.0                     NaN     0.000000  \n",
       "50%               1.0                     NaN     0.000000  \n",
       "75%               1.0                     NaN     0.000000  \n",
       "max               1.0                     NaN     1.000000  "
      ]
     },
     "execution_count": 14,
     "metadata": {},
     "output_type": "execute_result"
    }
   ],
   "source": [
    "# Описательная статистика для всех типов данных\n",
    "df_two.describe(include='all')"
   ]
  },
  {
   "cell_type": "code",
   "execution_count": 15,
   "id": "0eb1921e-abd6-4985-b67f-5ca7e7090f42",
   "metadata": {},
   "outputs": [
    {
     "data": {
      "text/plain": [
       "5288"
      ]
     },
     "execution_count": 15,
     "metadata": {},
     "output_type": "execute_result"
    }
   ],
   "source": [
    "df_two.id.nunique()"
   ]
  },
  {
   "cell_type": "code",
   "execution_count": 24,
   "id": "c968a297-4d59-4e4c-bbec-ea2bcf7b7e94",
   "metadata": {},
   "outputs": [],
   "source": [
    "def format_number(num):\n",
    "    if num >= 1000000000:\n",
    "        return f\"{round(num / 1000000000, 1)} млдр\"\n",
    "    elif num >= 1000000:\n",
    "        return f\"{round(num / 1000000,1)} млн\"\n",
    "    else:\n",
    "        return str(num)"
   ]
  },
  {
   "cell_type": "code",
   "execution_count": 25,
   "id": "319f3bd0-9676-4d35-83be-734327f4b20c",
   "metadata": {},
   "outputs": [
    {
     "name": "stdout",
     "output_type": "stream",
     "text": [
      "Количество покупок до кампании 706319 и выручка 3.8 млдр\n",
      "\n",
      "Вторая маркетинговая кампания принесла 9896 покупки, покупки увеличились на 1.4 процента.\n",
      "\n",
      "Вторая маркетинговая кампания принесла 57.9 млн выручки, выручка увеличилась на 1.51 процента.\n"
     ]
    }
   ],
   "source": [
    "# Для маркетинговой кампании (группа 1):\n",
    "df_two_total_revenue = df_two.cost.sum() # выручка только второй маркетинговой компании\n",
    "df_two_purchases = df_two.shape[0] # количество покупок только второй маркетинговой компании\n",
    "\n",
    "\n",
    "# Все клиенты до кампании (группа 2)\n",
    "df_total_revenue = df[(df['marketing_two'] != 1) & (df['marketing_one'] != 1)].cost.sum() # общая выручка всех данных\n",
    "df_count_purchases = df[(df['marketing_two'] != 1) & (df['marketing_one'] != 1)].shape[0]  # количество покупок всех данных\n",
    "\n",
    "\n",
    "# увиличение покупок в процентах\n",
    "df_purchases_percent = round(df_two_purchases/df_count_purchases*100, 2)\n",
    "# увеличение выручки в процентах\n",
    "df_revenue_percent = round(df_two_total_revenue/df_total_revenue*100, 2)\n",
    "\n",
    "print(f'Количество покупок до кампании {df_count_purchases} и выручка {format_number(df_total_revenue)}')\n",
    "print()\n",
    "print(f'Вторая маркетинговая кампания принесла {df_two_purchases} покупки, покупки увеличились на {df_purchases_percent} процента.')\n",
    "print()\n",
    "print(f'Вторая маркетинговая кампания принесла {format_number(df_two_total_revenue)} выручки, выручка увеличилась на {df_revenue_percent} процента.')"
   ]
  },
  {
   "cell_type": "markdown",
   "id": "f973dd93-017a-4dbf-b4c3-18c13bf27a59",
   "metadata": {},
   "source": [
    "****\n",
    "**ВЫВОД:**\n",
    "\n",
    "**Отвергается нулевая гипотеза и применяется альтернативная гипотеза.**\n",
    "\n",
    "**Н1:** Маркетинговая кампания эффективна\n",
    "\n",
    "**Вторая маркетинговая компания была эффективна, на 1.5% увеличилась выручка и на 1.4% увеличились покупки.**"
   ]
  },
  {
   "cell_type": "code",
   "execution_count": null,
   "id": "3c00b1e6-27c7-4950-8d9a-498b512d41b2",
   "metadata": {},
   "outputs": [],
   "source": []
  }
 ],
 "metadata": {
  "kernelspec": {
   "display_name": "Python 3 (ipykernel)",
   "language": "python",
   "name": "python3"
  },
  "language_info": {
   "codemirror_mode": {
    "name": "ipython",
    "version": 3
   },
   "file_extension": ".py",
   "mimetype": "text/x-python",
   "name": "python",
   "nbconvert_exporter": "python",
   "pygments_lexer": "ipython3",
   "version": "3.12.7"
  }
 },
 "nbformat": 4,
 "nbformat_minor": 5
}
